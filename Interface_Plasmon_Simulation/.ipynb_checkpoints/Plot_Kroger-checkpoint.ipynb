{
 "cells": [
  {
   "cell_type": "code",
   "execution_count": 1,
   "metadata": {
    "collapsed": true
   },
   "outputs": [],
   "source": [
    "from __future__ import division\n",
    "import numpy as np\n",
    "from materials import vac, Al, GB\n",
    "from microscope import Microscope\n",
    "#from bulkMode import bulk_NR\n",
    "#from twoSlabParallel import twoSlabParallel_NR, twoSlabParallel, twoSlabParallel_2, dispersion\n",
    "from KrogerFormula import kroger\n",
    "import matplotlib.pyplot as plt\n",
    "from matplotlib.colors import LogNorm"
   ]
  },
  {
   "cell_type": "markdown",
   "metadata": {},
   "source": [
    "Initial varibales"
   ]
  },
  {
   "cell_type": "code",
   "execution_count": 2,
   "metadata": {
    "collapsed": true
   },
   "outputs": [],
   "source": [
    "c = 3E8 #[m/s]\n",
    "hbar=6.582E-16#[eV s]"
   ]
  },
  {
   "cell_type": "markdown",
   "metadata": {},
   "source": [
    "Set dimmensions"
   ]
  },
  {
   "cell_type": "code",
   "execution_count": 3,
   "metadata": {
    "collapsed": true
   },
   "outputs": [],
   "source": [
    "q_perpendicular = np.arange(-200,200,1)*1E6#np.arange(30,200,1)*1E6#np.linspace(-2,2,100,endpoint=True)*1E10#\n",
    "E = np.arange(0.001,25,0.03)\n",
    "\n",
    "q_perpendicular = q_perpendicular[:,np.newaxis]\n",
    "E = E[np.newaxis,:]"
   ]
  },
  {
   "cell_type": "markdown",
   "metadata": {},
   "source": [
    "Set materials"
   ]
  },
  {
   "cell_type": "code",
   "execution_count": 4,
   "metadata": {},
   "outputs": [
    {
     "name": "stdout",
     "output_type": "stream",
     "text": [
      "Al\n",
      "n:  1.8117722802e+29 [e-/m^3]\n",
      "Setting E_p\n",
      "15.8067058407\n",
      "Setting eps\n",
      "\n",
      "GB\n",
      "n:  1.68381104041e+29 [e-/m^3]\n",
      "Setting E_p\n",
      "15.2382902765\n",
      "Setting eps\n",
      "\n"
     ]
    }
   ],
   "source": [
    "materials = [Al,GB()]#[vac,Al]#\n",
    "for material in materials:\n",
    "    print(material.name)\n",
    "    print('n: ',material.n,'[e-/m^3]')\n",
    "    material.set_Ep(type='Drude')\n",
    "    print(material.E_p0)\n",
    "    material.set_eps(E=E,type='Drude')\n",
    "    print('')\n",
    "#print(materials[1].eps.shape)\n",
    "#materials[1].eps = np.ones_like(materials[1].eps)*(4+0j)\n",
    "#print(materials[1].eps)"
   ]
  },
  {
   "cell_type": "code",
   "execution_count": 12,
   "metadata": {},
   "outputs": [],
   "source": [
    "thickness = np.array([2, 4, 20, 40])*1E-10#[400E-9, 160E-9]#\n",
    "theta_n = [0, 45, 89]\n",
    "q_z = [0, 100E6, 200E6]"
   ]
  },
  {
   "cell_type": "markdown",
   "metadata": {},
   "source": [
    "Set microscope"
   ]
  },
  {
   "cell_type": "code",
   "execution_count": 6,
   "metadata": {},
   "outputs": [
    {
     "name": "stdout",
     "output_type": "stream",
     "text": [
      "Microscope\n",
      "  keV :  300\n",
      "  gamma :  1.5870841487279843\n",
      "  beta2 :  0.6029912379261115\n",
      "  v :  232957531.351\n",
      "  T :  154304.780267\n",
      "  k0 :  3.19429261034e+12\n",
      "  resolution :  0.05\n",
      "  dispersion :  0.05\n",
      "  collection_angle :  0.002\n",
      "\n"
     ]
    }
   ],
   "source": [
    "microscope = Microscope(keV=300)\n",
    "microscope.print_parameters()"
   ]
  },
  {
   "cell_type": "markdown",
   "metadata": {},
   "source": [
    "# Plotting"
   ]
  },
  {
   "cell_type": "markdown",
   "metadata": {},
   "source": [
    "dielectric funciton"
   ]
  },
  {
   "cell_type": "code",
   "execution_count": null,
   "metadata": {},
   "outputs": [],
   "source": [
    "pos = 100\n",
    "fig, ax = plt.subplots(1, figsize=(20,10))\n",
    "ax.plot(E[0,pos:],np.real(materials[0].eps[0,pos:]), '-k', label='Al real')\n",
    "ax.plot(E[0,pos:],np.imag(materials[0].eps[0,pos:]), '--k', label='Al imag')\n",
    "ax.plot(E[0,pos:],np.real(materials[1].eps[0,pos:]), '-r', label='GB real')\n",
    "ax.plot(E[0,pos:],np.imag(materials[1].eps[0,pos:]), '--r', label='GB imag')\n",
    "ax.set_xlabel('E [eV]')\n",
    "ax.set_ylabel(r'$\\epsilon(E)$')\n",
    "#ax.set_xlim(xmin=3)\n",
    "#plt.autoscale(enable=True, axis='y', tight=True)\n",
    "ax.legend()\n",
    "plt.show()"
   ]
  },
  {
   "cell_type": "code",
   "execution_count": null,
   "metadata": {
    "collapsed": true
   },
   "outputs": [],
   "source": [
    "fig.savefig('C:/Users/erhog/Google Drive/Research/Simulations_electrodynamic/Kroger/AlGB_300keV/eps.jpg',\n",
    "            transparent=True, bbox_inches='tight', dpi=800)"
   ]
  },
  {
   "cell_type": "code",
   "execution_count": null,
   "metadata": {
    "collapsed": true
   },
   "outputs": [],
   "source": [
    "epsSumReal = np.real(materials[0].eps[0,:])+np.real(materials[1].eps[0,:])\n",
    "nearZero=(np.abs(epsSumReal)).argmin()"
   ]
  },
  {
   "cell_type": "code",
   "execution_count": null,
   "metadata": {},
   "outputs": [],
   "source": [
    "fig, ax = plt.subplots(1, figsize=(20,10))\n",
    "ax.plot(E[0,pos:], np.imag(materials[0].eps[0,pos:])+np.imag(materials[1].eps[0,pos:]), label='imag')\n",
    "ax.plot(E[0,pos:], np.real(materials[0].eps[0,pos:])+np.real(materials[1].eps[0,pos:]), label='real')\n",
    "ax.plot([E[0,nearZero]],[epsSumReal[nearZero]],'ok')\n",
    "ax.text(E[0,nearZero]+0.07,epsSumReal[nearZero],'({:0.3f}, {:0.3f})'.format(E[0,nearZero],epsSumReal[nearZero]))\n",
    "ax.set_xlabel('E [eV]')\n",
    "ax.set_ylabel(r'$\\epsilon_{Al}+\\epsilon_{vac}$')\n",
    "ax.legend()\n",
    "plt.show()"
   ]
  },
  {
   "cell_type": "code",
   "execution_count": null,
   "metadata": {
    "collapsed": true
   },
   "outputs": [],
   "source": [
    "fig.savefig('C:/Users/erhog/Google Drive/Research/Simulations_electrodynamic/Kroger/AlGB_300keV/epsSum.jpg',\n",
    "            transparent=True, bbox_inches='tight', dpi=800)"
   ]
  },
  {
   "cell_type": "markdown",
   "metadata": {},
   "source": [
    "Kroger"
   ]
  },
  {
   "cell_type": "code",
   "execution_count": 7,
   "metadata": {
    "collapsed": true
   },
   "outputs": [],
   "source": [
    "norm = LogNorm()"
   ]
  },
  {
   "cell_type": "code",
   "execution_count": 14,
   "metadata": {
    "collapsed": true
   },
   "outputs": [],
   "source": [
    "def plot_together():\n",
    "    fig, [[ax1, ax5], [ax2, ax6], [ax3, ax7], [ax4, ax8]] = plt.subplots(4, 2, figsize=(20,10))\n",
    "    #fig.suptitle(r't: {:.2f}[nm],  $\\theta_n$: {}$^o$'.format(t/1E-9,theta_n))\n",
    "    \n",
    "    img1 = ax1.imshow(interface_TM, aspect='auto', origin='lower', norm=norm, cmap=plt.get_cmap('hot'),\n",
    "                     extent=(np.amin(E),np.amax(E), np.amin(q_perpendicular), np.amax(q_perpendicular)))\n",
    "    plt.xlabel('E [eV]')\n",
    "    plt.ylabel(r'$q_{y} [m^-]$')\n",
    "#    fig.colorbar(img1, ax=ax1)\n",
    "    \n",
    "    img2 = ax2.imshow(guidedLight1_TM, aspect='auto', origin='lower', norm=norm, cmap=plt.get_cmap('hot'),\n",
    "                     extent=(np.amin(E),np.amax(E), np.amin(q_perpendicular), np.amax(q_perpendicular)))\n",
    "    plt.xlabel('E [eV]')\n",
    "    plt.ylabel(r'$q_{y} [m^-]$')\n",
    "#    fig.colorbar(img2, ax=ax2)\n",
    "    \n",
    "    img3 = ax3.imshow(guidedLight2_TM, aspect='auto', origin='lower', norm=norm, cmap=plt.get_cmap('hot'),\n",
    "                     extent=(np.amin(E),np.amax(E), np.amin(q_perpendicular), np.amax(q_perpendicular)))\n",
    "    plt.xlabel('E [eV]')\n",
    "    plt.ylabel(r'$q_{y} [m^-]$')\n",
    "#    fig.colorbar(img3, ax=ax3)\n",
    "\n",
    "    img4 = ax4.imshow(bulk1+bulk2, aspect='auto', origin='lower', norm=norm, cmap=plt.get_cmap('hot'),\n",
    "                     extent=(np.amin(E),np.amax(E), np.amin(q_perpendicular), np.amax(q_perpendicular)))\n",
    "    plt.xlabel('E [eV]')\n",
    "    plt.ylabel(r'$q_{y} [m^-]$')\n",
    "#    fig.colorbar(img4, ax=ax4)\n",
    "\n",
    "    img5 = ax5.imshow(interface_TE, aspect='auto', origin='lower', norm=norm, cmap=plt.get_cmap('hot'),\n",
    "                     extent=(np.amin(E),np.amax(E), np.amin(q_perpendicular), np.amax(q_perpendicular)))\n",
    "    plt.xlabel('E [eV]')\n",
    "    plt.ylabel(r'$q_{y} [m^-]$')\n",
    "#    fig.colorbar(img5, ax=ax5)\n",
    "    \n",
    "    img6 = ax6.imshow(guidedLight1_TE, aspect='auto', origin='lower', norm=norm, cmap=plt.get_cmap('hot'),\n",
    "                     extent=(np.amin(E),np.amax(E), np.amin(q_perpendicular), np.amax(q_perpendicular)))\n",
    "    plt.xlabel('E [eV]')\n",
    "    plt.ylabel(r'$q_{y} [m^-]$')\n",
    "#    fig.colorbar(img6, ax=ax6)\n",
    "    \n",
    "    img7 = ax7.imshow(guidedLight2_TE, aspect='auto', origin='lower', norm=norm, cmap=plt.get_cmap('hot'),\n",
    "                     extent=(np.amin(E),np.amax(E), np.amin(q_perpendicular), np.amax(q_perpendicular)))\n",
    "    plt.xlabel('E [eV]')\n",
    "    plt.ylabel(r'$q_{y} [m^-]$')\n",
    "#    fig.colorbar(img7, ax=ax7)\n",
    "    \n",
    "    img8 = ax8.imshow(bulk1+bulk2+interface_TM+guidedLight1_TM+guidedLight2_TM+\n",
    "                      interface_TE+guidedLight1_TE+guidedLight2_TE,\n",
    "                      aspect='auto', origin='lower', norm=norm, cmap=plt.get_cmap('hot'),\n",
    "                     extent=(np.amin(E),np.amax(E), np.amin(q_perpendicular), np.amax(q_perpendicular)))\n",
    "    plt.xlabel('E [eV]')\n",
    "    plt.ylabel(r'$q_{y} [m^-]$')\n",
    "#    fig.colorbar(img8, ax=ax8)\n",
    "    \n",
    "    #plt.show()\n",
    "    return fig"
   ]
  },
  {
   "cell_type": "code",
   "execution_count": 15,
   "metadata": {
    "collapsed": true
   },
   "outputs": [],
   "source": [
    "def plot_binned():\n",
    "    total = bulk1+bulk2+interface_TM+guidedLight1_TM+guidedLight2_TM+interface_TE+guidedLight1_TE+guidedLight2_TE\n",
    "    \n",
    "    fig, [ax1,ax2] = plt.subplots(2, figsize=(20,10), sharex=True)\n",
    "    #fig.suptitle(r'pos: {} [m]'.format(x[pos_index,0,0]))\n",
    "    img0 = ax1.imshow(total,\n",
    "                        aspect='auto', origin='lower', norm=norm, cmap=plt.get_cmap('hot'),\n",
    "                 extent=(np.amin(E),np.amax(E), np.amin(q_perpendicular), np.amax(q_perpendicular)))\n",
    "    #ax[0].set_title('Total')\n",
    "    ax1.set_ylabel(r'$q_{y} [m^-]$')\n",
    "    #fig.colorbar(mappable=img0, ax=ax[0])\n",
    "    ax1.set_aspect('auto')\n",
    "\n",
    "    #total[np.isnan(total)] = np.inf\n",
    "    ax2.plot(E[0], total.sum(axis=0))\n",
    "    ax2.set_xlim(xmin=0)\n",
    "    plt.autoscale(enable=True, axis='x', tight=True)\n",
    "    ax2.set_xlabel('E [eV]')\n",
    "    plt.tight_layout(pad=0.001)\n",
    "    return fig"
   ]
  },
  {
   "cell_type": "code",
   "execution_count": 16,
   "metadata": {
    "collapsed": true
   },
   "outputs": [],
   "source": [
    "def plot_binned_convolve(fwhm=0.6):\n",
    "    zlp = fwhm/(2*np.pi) * 1/(np.arange(-5,5,0.03)**2 + (fwhm/2)**2)\n",
    "    total = bulk1+bulk2+interface_TM+guidedLight1_TM+guidedLight2_TM+interface_TE+guidedLight1_TE+guidedLight2_TE\n",
    "    total = np.array([np.convolve(zlp,i,mode='same') for i in total])\n",
    "    \n",
    "    fig, [ax1,ax2] = plt.subplots(2, figsize=(20,10), sharex=True)\n",
    "    #fig.suptitle(r'pos: {} [m]'.format(x[pos_index,0,0]))\n",
    "    img0 = ax1.imshow(total,\n",
    "                        aspect='auto', origin='lower', norm=norm, cmap=plt.get_cmap('hot'),\n",
    "                 extent=(np.amin(E),np.amax(E), np.amin(q_perpendicular), np.amax(q_perpendicular)))\n",
    "    #ax[0].set_title('Total')\n",
    "    ax1.set_ylabel(r'$q_{y} [m^-]$')\n",
    "    #fig.colorbar(mappable=img0, ax=ax[0])\n",
    "    ax1.set_aspect('auto')\n",
    "\n",
    "    #total[np.isnan(total)] = np.inf\n",
    "    ax2.plot(E[0], total.sum(axis=0))\n",
    "    ax2.set_xlim(xmin=0)\n",
    "    plt.autoscale(enable=True, axis='x', tight=True)\n",
    "    ax2.set_xlabel('E [eV]')\n",
    "    plt.tight_layout(pad=0.001)\n",
    "    return fig"
   ]
  },
  {
   "cell_type": "code",
   "execution_count": 17,
   "metadata": {},
   "outputs": [
    {
     "name": "stderr",
     "output_type": "stream",
     "text": [
      "C:\\Users\\erhog\\Documents\\GitHub\\Interface_Plasmon_Simulation\\Interface_Plasmon_Simulation\\KrogerFormula.py:82: RuntimeWarning: invalid value encountered in true_divide\n",
      "  cosq_x2 = np.where(q_perpendicular==0, 1, np.abs(q_y)/q_perpendicular)\n",
      "C:\\Users\\erhog\\Documents\\GitHub\\Interface_Plasmon_Simulation\\Interface_Plasmon_Simulation\\KrogerFormula.py:83: RuntimeWarning: invalid value encountered in true_divide\n",
      "  sinq_x2 = np.where(q_perpendicular==0, 0, np.abs(q_z)/q_perpendicular)\n"
     ]
    },
    {
     "ename": "NameError",
     "evalue": "name 'bulk' is not defined",
     "output_type": "error",
     "traceback": [
      "\u001b[1;31m---------------------------------------------------------------------------\u001b[0m",
      "\u001b[1;31mNameError\u001b[0m                                 Traceback (most recent call last)",
      "\u001b[1;32m<ipython-input-17-3d9d52db0227>\u001b[0m in \u001b[0;36m<module>\u001b[1;34m()\u001b[0m\n\u001b[0;32m     24\u001b[0m \u001b[1;33m\u001b[0m\u001b[0m\n\u001b[0;32m     25\u001b[0m             \u001b[0mfig\u001b[0m\u001b[1;33m,\u001b[0m \u001b[0max\u001b[0m \u001b[1;33m=\u001b[0m \u001b[0mplt\u001b[0m\u001b[1;33m.\u001b[0m\u001b[0msubplots\u001b[0m\u001b[1;33m(\u001b[0m\u001b[1;36m1\u001b[0m\u001b[1;33m,\u001b[0m \u001b[0mfigsize\u001b[0m\u001b[1;33m=\u001b[0m\u001b[1;33m(\u001b[0m\u001b[1;36m20\u001b[0m\u001b[1;33m,\u001b[0m\u001b[1;36m10\u001b[0m\u001b[1;33m)\u001b[0m\u001b[1;33m,\u001b[0m \u001b[0msharex\u001b[0m\u001b[1;33m=\u001b[0m\u001b[1;32mTrue\u001b[0m\u001b[1;33m)\u001b[0m\u001b[1;33m\u001b[0m\u001b[0m\n\u001b[1;32m---> 26\u001b[1;33m             img0 = ax.imshow(bulk+interface_TM+guidedLight1_TM+guidedLight2_TM+interface_TE+guidedLight1_TE+guidedLight2_TE,\n\u001b[0m\u001b[0;32m     27\u001b[0m                                 \u001b[0maspect\u001b[0m\u001b[1;33m=\u001b[0m\u001b[1;34m'auto'\u001b[0m\u001b[1;33m,\u001b[0m \u001b[0morigin\u001b[0m\u001b[1;33m=\u001b[0m\u001b[1;34m'lower'\u001b[0m\u001b[1;33m,\u001b[0m \u001b[0mnorm\u001b[0m\u001b[1;33m=\u001b[0m\u001b[0mLogNorm\u001b[0m\u001b[1;33m(\u001b[0m\u001b[1;33m)\u001b[0m\u001b[1;33m,\u001b[0m \u001b[0mcmap\u001b[0m\u001b[1;33m=\u001b[0m\u001b[0mplt\u001b[0m\u001b[1;33m.\u001b[0m\u001b[0mget_cmap\u001b[0m\u001b[1;33m(\u001b[0m\u001b[1;34m'hot'\u001b[0m\u001b[1;33m)\u001b[0m\u001b[1;33m,\u001b[0m\u001b[1;33m\u001b[0m\u001b[0m\n\u001b[0;32m     28\u001b[0m                          extent=(np.amin(E),np.amax(E), np.amin(q_perpendicular), np.amax(q_perpendicular)))\n",
      "\u001b[1;31mNameError\u001b[0m: name 'bulk' is not defined"
     ]
    }
   ],
   "source": [
    "for t in thickness:\n",
    "    for angle in theta_n:\n",
    "        for qz in q_z:\n",
    "            file_name = 'C:/Users/erhog/Google Drive/Research/Simulations_electrodynamic/Kroger/AlGB_300keV/{:.2f}nm{}degree_qz{:.2f}'.format(t/1E-9,angle,qz/1E6)\n",
    "            file_end = '_E1E-3to30eV_q-200to200um.jpg'\n",
    "            bulk1, bulk2, interface_TM, guidedLight1_TM, guidedLight2_TM, interface_TE, guidedLight1_TE, guidedLight2_TE = \\\n",
    "            kroger(microscope, material=materials, t=t, theta_n=angle, q_y=q_perpendicular, q_z=qz, E=E)\n",
    "\n",
    "            fig = plot_together()\n",
    "            #plt.show()\n",
    "\n",
    "            fig.savefig(file_name+'parts'+file_end,\n",
    "                        bbox_inches='tight', dpi=800)\n",
    "            plt.close()\n",
    "\n",
    "            fig = plot_binned()\n",
    "            fig.savefig(file_name+'binned'+file_end,\n",
    "                        bbox_inches='tight', dpi=800)\n",
    "            plt.close()\n",
    "            \n",
    "            fig = plot_binned_convolve(fwhm=0.6)\n",
    "            fig.savefig(file_name+'binned'+file_end,\n",
    "                        bbox_inches='tight', dpi=800)\n",
    "            plt.close()\n",
    "\n",
    "            fig, ax = plt.subplots(1, figsize=(20,10), sharex=True)\n",
    "            img0 = ax.imshow(bulk1+bulk2+interface_TM+guidedLight1_TM+guidedLight2_TM+interface_TE+guidedLight1_TE+guidedLight2_TE,\n",
    "                                aspect='auto', origin='lower', norm=LogNorm(), cmap=plt.get_cmap('hot'),\n",
    "                         extent=(np.amin(E),np.amax(E), np.amin(q_perpendicular), np.amax(q_perpendicular)))\n",
    "            ax.set_ylabel(r'$q_{y} [m^-]$')\n",
    "            #fig.colorbar(mappable=img0, ax=ax[0])\n",
    "            ax.set_aspect('auto')\n",
    "            #plt.tight_layout(pad=0.001)\n",
    "            fig.savefig(file_name+'total'+file_end,\n",
    "                        bbox_inches='tight', dpi=800)\n",
    "\n",
    "            plt.close()"
   ]
  },
  {
   "cell_type": "code",
   "execution_count": null,
   "metadata": {
    "collapsed": true
   },
   "outputs": [],
   "source": [
    "t=thickness[0]\n",
    "angle=theta_n[1]"
   ]
  },
  {
   "cell_type": "code",
   "execution_count": null,
   "metadata": {},
   "outputs": [],
   "source": [
    "bulk, interface_TM, guidedLight1_TM, guidedLight2_TM, interface_TE, guidedLight1_TE, guidedLight2_TE = \\\n",
    "        kroger(microscope, material=materials, t=t, theta_n=angle, q_y=q_perpendicular, q_z=1E6, E=E)"
   ]
  },
  {
   "cell_type": "code",
   "execution_count": null,
   "metadata": {},
   "outputs": [],
   "source": [
    "fig = plot_binned()\n",
    "plt.show()"
   ]
  },
  {
   "cell_type": "code",
   "execution_count": null,
   "metadata": {
    "scrolled": true
   },
   "outputs": [],
   "source": [
    "fig = plot_together()\n",
    "plt.show()"
   ]
  },
  {
   "cell_type": "code",
   "execution_count": null,
   "metadata": {
    "collapsed": true
   },
   "outputs": [],
   "source": []
  }
 ],
 "metadata": {
  "kernelspec": {
   "display_name": "Python 3",
   "language": "python",
   "name": "python3"
  },
  "language_info": {
   "codemirror_mode": {
    "name": "ipython",
    "version": 3
   },
   "file_extension": ".py",
   "mimetype": "text/x-python",
   "name": "python",
   "nbconvert_exporter": "python",
   "pygments_lexer": "ipython3",
   "version": "3.6.1"
  }
 },
 "nbformat": 4,
 "nbformat_minor": 2
}
