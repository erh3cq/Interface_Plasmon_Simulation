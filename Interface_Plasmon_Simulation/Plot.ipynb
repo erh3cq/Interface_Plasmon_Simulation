{
 "cells": [
  {
   "cell_type": "code",
   "execution_count": null,
   "metadata": {},
   "outputs": [],
   "source": []
  },
  {
   "cell_type": "code",
   "execution_count": 1,
   "metadata": {},
   "outputs": [
    {
     "name": "stderr",
     "output_type": "stream",
     "text": [
      "C:\\Users\\erhog\\Documents\\GitHub\\Interface_Plasmon_Simulation\\Interface_Plasmon_Simulation\\materials.py:49: RuntimeWarning: invalid value encountered in double_scalars\n",
      "  self.q_c = (m0*self.me)/(hbar* hbar*e) * self.E_p0/self.k_F\n"
     ]
    }
   ],
   "source": [
    "from __future__ import division\n",
    "import numpy as np\n",
    "from materials import vac, Al, GB\n",
    "from microscope import Microscope\n",
    "from bulkMode import bulk_NR, bulk\n",
    "from twoSlabParallel import twoSlabParallel, dispersion\n",
    "import matplotlib.pyplot as plt\n",
    "from matplotlib.colors import LogNorm, SymLogNorm"
   ]
  },
  {
   "cell_type": "code",
   "execution_count": 2,
   "metadata": {},
   "outputs": [],
   "source": [
    "save_folder = 'C:/Users/erhog/Google Drive/Research/Simulations_electrodynamic/AlandGB_da1E-1_dE0.8/300keV/'"
   ]
  },
  {
   "cell_type": "markdown",
   "metadata": {},
   "source": [
    "Initial varibales"
   ]
  },
  {
   "cell_type": "code",
   "execution_count": 3,
   "metadata": {},
   "outputs": [],
   "source": [
    "c = 3E8 #[m/s]\n",
    "hbar=6.582E-16#[eV s]"
   ]
  },
  {
   "cell_type": "markdown",
   "metadata": {},
   "source": [
    "Set dimmensions"
   ]
  },
  {
   "cell_type": "code",
   "execution_count": 4,
   "metadata": {},
   "outputs": [],
   "source": [
    "x = np.array([-40, 0, 40])*1E-10#np.arange(-5,0,0.5)*1E-10 #[m]\n",
    "q_y = np.linspace(1E-2,1.5,2000,endpoint=True)*1E10 #np.linspace(1E-2, 200, 2000, endpoint=True)*1E6 #\n",
    "E = np.arange(12,20,0.03)\n",
    "\n",
    "x = x[:,np.newaxis,np.newaxis]\n",
    "q_y = q_y[np.newaxis,:,np.newaxis]\n",
    "E = E[np.newaxis,np.newaxis,:]"
   ]
  },
  {
   "cell_type": "code",
   "execution_count": 5,
   "metadata": {},
   "outputs": [],
   "source": [
    "fileDim = 'E1E-3to20eV_q0to1.5A.jpg' #'E12to20eV_q0to1.5A_Mermin.jpg' #"
   ]
  },
  {
   "cell_type": "markdown",
   "metadata": {},
   "source": [
    "Set materials"
   ]
  },
  {
   "cell_type": "code",
   "execution_count": 11,
   "metadata": {},
   "outputs": [
    {
     "name": "stdout",
     "output_type": "stream",
     "text": [
      "Al\n",
      "n:  1.8117722802e+29 [e-/m^3]\n",
      "Setting E_p\n",
      "Setting eps\n",
      "Ep_0 15.6127511844\n",
      "Emax 15.3174786349\n",
      "\n",
      "GB\n",
      "n:  1.68381104041e+29 [e-/m^3]\n",
      "Setting E_p\n",
      "Setting eps\n",
      "Ep_0 15.0513103085\n",
      "Emax 14.7586910146\n",
      "\n"
     ]
    }
   ],
   "source": [
    "materials = [Al,GB()]#[Al,vac]#[GB(), Al]#\n",
    "for material in materials:\n",
    "    print(material.name)\n",
    "    print('n: ',material.n,'[e-/m^3]')\n",
    "    material.set_Ep(type='Drude')\n",
    "    material.set_eps(E=E, q=q_y, type='Drude', multiple_eps=True)\n",
    "#    material.set_eps(E=E, q=q_y, type='Lindhard', multiple_eps=True)\n",
    "#    material.set_eps(E=E, q=q_y, type='Mermin', multiple_eps=True)\n",
    "    print('Ep_0',material.E_p0)    \n",
    "    print('Emax',np.sqrt(material.E_p0**2/(material.eps_inf) - material.dE**2))\n",
    "    #material.set_eps(E=E,type='Drude')\n",
    "    print('')"
   ]
  },
  {
   "cell_type": "markdown",
   "metadata": {},
   "source": [
    "Set microscope"
   ]
  },
  {
   "cell_type": "code",
   "execution_count": 12,
   "metadata": {},
   "outputs": [
    {
     "name": "stdout",
     "output_type": "stream",
     "text": [
      "Microscope\n",
      "  keV :  300\n",
      "  gamma :  1.5870841487279843\n",
      "  beta2 :  0.6029912379261115\n",
      "  v :  232957531.351\n",
      "  T :  154304.780267\n",
      "  k0 :  3.19429261034e+12\n",
      "  resolution :  0.05\n",
      "  dispersion :  0.05\n",
      "  collection_angle :  0.002\n",
      "\n"
     ]
    }
   ],
   "source": [
    "microscope = Microscope(keV=300)\n",
    "microscope.print_parameters()"
   ]
  },
  {
   "cell_type": "markdown",
   "metadata": {},
   "source": [
    "# Plotting"
   ]
  },
  {
   "cell_type": "code",
   "execution_count": 13,
   "metadata": {},
   "outputs": [],
   "source": [
    "pos_index= 0"
   ]
  },
  {
   "cell_type": "markdown",
   "metadata": {},
   "source": [
    "dielectric funciton"
   ]
  },
  {
   "cell_type": "code",
   "execution_count": null,
   "metadata": {},
   "outputs": [],
   "source": [
    "fig, ax = plt.subplots(1, figsize=(20,10))\n",
    "ax.plot(E[0,0,:],np.real(materials[0].eps[0,0,:]), '-k', label='Al real')\n",
    "ax.plot(E[0,0,:],np.imag(materials[0].eps[0,0,:]), '--k', label='Al imag')\n",
    "ax.plot(E[0,0,:],np.real(materials[1].eps[0,0,:]), '-r', label='GB real')\n",
    "ax.plot(E[0,0,:],np.imag(materials[1].eps[0,0,:]), '--r', label='GB imag')\n",
    "ax.set_xlabel('E [eV]')\n",
    "ax.set_ylabel(r'$\\epsilon(E)$')\n",
    "ax.set_xlim(xmin=3)\n",
    "plt.autoscale(enable=True, axis='x', tight=True)\n",
    "ax.legend()\n",
    "plt.show()"
   ]
  },
  {
   "cell_type": "code",
   "execution_count": null,
   "metadata": {},
   "outputs": [],
   "source": [
    "#fig.savefig('C:/Users/erhog/Google Drive/Research/Simulations_electrodynamic/eps.jpg',\n",
    "#            transparent=True, bbox_inches='tight', dpi=800)"
   ]
  },
  {
   "cell_type": "code",
   "execution_count": null,
   "metadata": {},
   "outputs": [],
   "source": [
    "epsSumReal = np.real(materials[0].eps[0,0,:])+np.real(materials[1].eps[0,0,:])\n",
    "nearZero=(np.abs(epsSumReal)).argmin()\n",
    "print(epsSumReal[nearZero-1:nearZero+2])\n",
    "print(E[0,0,nearZero-1:nearZero+2])"
   ]
  },
  {
   "cell_type": "code",
   "execution_count": null,
   "metadata": {},
   "outputs": [],
   "source": [
    "fig, ax = plt.subplots(1, figsize=(20,10))\n",
    "ax.plot(E[0,0,:], np.imag(materials[0].eps[0,0,:])+np.imag(materials[1].eps[0,0,:]), label='imag')\n",
    "ax.plot(E[0,0,:], np.real(materials[0].eps[0,0,:])+np.real(materials[1].eps[0,0,:]), label='real')\n",
    "ax.plot([E[0,0,nearZero]],[epsSumReal[nearZero]],'ok')\n",
    "ax.text(E[0,0,nearZero]+0.07,epsSumReal[nearZero],'({:0.3f}, {:0.3f})'.format(E[0,0,nearZero],epsSumReal[nearZero]))\n",
    "ax.set_xlabel('E [eV]')\n",
    "ax.set_ylabel(r'$\\epsilon_{Al}+\\epsilon_{vac}$')\n",
    "ax.legend()\n",
    "plt.show()"
   ]
  },
  {
   "cell_type": "code",
   "execution_count": null,
   "metadata": {},
   "outputs": [],
   "source": [
    "#fig.savefig('C:/Users/erhog/Google Drive/Research/Simulations_electrodynamic/epsSum.jpg',\n",
    "#            transparent=True, bbox_inches='tight', dpi=800)"
   ]
  },
  {
   "cell_type": "markdown",
   "metadata": {},
   "source": [
    "Bulk"
   ]
  },
  {
   "cell_type": "code",
   "execution_count": 14,
   "metadata": {},
   "outputs": [],
   "source": [
    "bulk = bulk(microscope, material=materials,\n",
    "                   x=x, q_y=q_y, E=E)#, eps='Mermin')"
   ]
  },
  {
   "cell_type": "code",
   "execution_count": null,
   "metadata": {},
   "outputs": [],
   "source": [
    "fig, ax = plt.subplots(2, figsize=(20,10), sharex=True)\n",
    "fig.suptitle(r'pos: {} [m]'.format(x[pos_index,0,0]))\n",
    "img0 = ax[0].imshow(bulk[pos_index,:,:], aspect='auto', origin='lower', norm=LogNorm(), cmap=plt.get_cmap('hot'),\n",
    "             extent=(np.amin(E),np.amax(E), np.amin(q_y), np.amax(q_y)))\n",
    "ax[0].set_title('Bulk')\n",
    "ax[0].set_ylabel(r'$q_{y} [m^-]$')\n",
    "fig.colorbar(mappable=img0, ax=ax[0])\n",
    "ax[0].set_aspect('auto')\n",
    "\n",
    "ax[1].plot(E[0,0,:],bulk[pos_index,:,:].sum(axis=0))\n",
    "ax[1].set_xlim(xmin=0)\n",
    "plt.autoscale(enable=True, axis='x', tight=True)\n",
    "ax[1].set_xlabel('E [eV]')\n",
    "#plt.tight_layout(pad=0.001)\n",
    "plt.show()"
   ]
  },
  {
   "cell_type": "code",
   "execution_count": null,
   "metadata": {},
   "outputs": [],
   "source": [
    "#fig.savefig('C:/Users/erhog/Google Drive/Research/Simulations_electrodynamic/bulk.jpg',\n",
    "#            transparent=True, bbox_inches='tight', dpi=800)"
   ]
  },
  {
   "cell_type": "markdown",
   "metadata": {
    "collapsed": true
   },
   "source": [
    "# SP"
   ]
  },
  {
   "cell_type": "code",
   "execution_count": 15,
   "metadata": {},
   "outputs": [],
   "source": [
    "interface_1, interface_2, interface_3 = twoSlabParallel(microscope, material=materials,\n",
    "                   x=x, q_y=q_y, E=E, NR=False)"
   ]
  },
  {
   "cell_type": "code",
   "execution_count": null,
   "metadata": {},
   "outputs": [],
   "source": [
    "norm = LogNorm()\n",
    "norm2 = SymLogNorm(1E-8)\n",
    "norm3 = SymLogNorm(1E-12)\n",
    "norm4 = LogNorm()#None"
   ]
  },
  {
   "cell_type": "code",
   "execution_count": null,
   "metadata": {
    "scrolled": false
   },
   "outputs": [],
   "source": [
    "fig, [ax1, ax2, ax3, ax4] = plt.subplots(4, 1, figsize=(20,10), sharex=True)\n",
    "img1 = ax1.imshow(interface_1[pos_index,:,:], aspect='auto', origin='lower', norm=norm, cmap=plt.get_cmap('hot'),\n",
    "                 extent=(np.amin(E),np.amax(E), np.amin(q_y), np.amax(q_y)))\n",
    "#ax1.set_xlabel('E [eV]')\n",
    "ax1.set_ylabel(r'$q_{y} [m^-]$')\n",
    "ax1.plot(q_y[0,:,0]*c*hbar, q_y[0,:,0], color='blue')\n",
    "fig.colorbar(img1, ax=ax1)\n",
    "ax1.set_xlim(np.amin(E),np.amax(E))\n",
    "\n",
    "img2 = ax2.imshow(interface_2[pos_index,:,:], aspect='auto', origin='lower', norm=norm2, cmap=plt.get_cmap('hot'),\n",
    "             extent=(np.amin(E),np.amax(E), np.amin(q_y), np.amax(q_y)))\n",
    "#ax2.set_xlabel('E [eV]')\n",
    "ax2.set_ylabel(r'$q_{y} [m^-]$')\n",
    "ax2.plot(q_y[0,:,0]*c*hbar, q_y[0,:,0], color='blue')\n",
    "fig.colorbar(img2, ax=ax2)\n",
    "ax2.set_xlim(np.amin(E),np.amax(E))\n",
    "\n",
    "img3 = ax3.imshow(interface_3[pos_index,:,:], aspect='auto', origin='lower', norm=norm3, cmap=plt.get_cmap('hot'),\n",
    "             extent=(np.amin(E),np.amax(E), np.amin(q_y), np.amax(q_y)))\n",
    "#ax3.set_xlabel('E [eV]')\n",
    "ax3.set_ylabel(r'$q_{y} [m^-]$')\n",
    "ax3.plot(q_y[0,:,0]*c*hbar, q_y[0,:,0], color='blue')\n",
    "fig.colorbar(img3, ax=ax3)\n",
    "ax3.set_xlim(np.amin(E),np.amax(E))\n",
    "\n",
    "img4 = ax4.imshow(interface_1[pos_index,:,:]+interface_2[pos_index,:,:]+interface_3[pos_index,:,:]+bulk[pos_index,:,:], aspect='auto', origin='lower',\n",
    "                  cmap=plt.get_cmap('hot'), norm=norm4,\n",
    "             extent=(np.amin(E),np.amax(E), np.amin(q_y), np.amax(q_y)))\n",
    "ax4.set_xlabel('E [eV]')\n",
    "ax4.set_ylabel(r'$q_{y} [m^-]$')\n",
    "fig.colorbar(img4, ax=ax4)\n",
    "ax4.plot(q_y[0,:,0]*c*hbar, q_y[0,:,0], color='blue')\n",
    "ax4.set_xlim(np.amin(E),np.amax(E))\n",
    "\n",
    "plt.show()"
   ]
  },
  {
   "cell_type": "code",
   "execution_count": null,
   "metadata": {},
   "outputs": [],
   "source": [
    "#fig.savefig(save_folder+fileDim, bbox_inches='tight', dpi=800)\n",
    "#'E1E-3to20eV_q0to1.5A.jpg', bbox_inches='tight', dpi=800)\n",
    "#"
   ]
  },
  {
   "cell_type": "markdown",
   "metadata": {},
   "source": [
    "# figs to save"
   ]
  },
  {
   "cell_type": "code",
   "execution_count": null,
   "metadata": {
    "scrolled": false
   },
   "outputs": [],
   "source": [
    "fig, ax1 = plt.subplots(1, 1, figsize=(20,10))\n",
    "img1 = plt.pcolor(E[pos_index,:,:], q_y[pos_index,:,:]/1E10,\n",
    "                  interface_1[pos_index,:,:]+interface_2[pos_index,:,:]+interface_3[pos_index,:,:],\n",
    "                  cmap=plt.get_cmap('hot'), norm=SymLogNorm(1E-5))\n",
    "plt.setp(ax1.get_xticklabels(), fontsize=20)\n",
    "plt.setp(ax1.get_yticklabels(), fontsize=20)\n",
    "ax1.set_xlabel('E [eV]', fontsize=22)\n",
    "ax1.set_ylabel(r'$q_{y}\\ [\\AA^-]$', fontsize=22)\n",
    "fig.colorbar(img1, ax=ax1)\n",
    "plt.show()"
   ]
  },
  {
   "cell_type": "code",
   "execution_count": null,
   "metadata": {},
   "outputs": [],
   "source": [
    "#fig.savefig(save_folder+'interfaceOnly_'+fileDim, bbox_inches='tight', dpi=800)\n",
    "#'interfaceOnly_E1E-3to20eV_q0to1.5A.jpg', bbox_inches='tight', dpi=800)\n",
    "#"
   ]
  },
  {
   "cell_type": "code",
   "execution_count": 16,
   "metadata": {},
   "outputs": [
    {
     "data": {
      "image/png": "[encoded data removed]",
      "text/plain": [
       "<matplotlib.figure.Figure at 0x18467235908>"
      ]
     },
     "metadata": {},
     "output_type": "display_data"
    }
   ],
   "source": [
    "fig, ax = plt.subplots(2, figsize=(20,10), sharex=True)\n",
    "#fig.suptitle(r'pos: {} [m]'.format(x[pos_index,0,0]))\n",
    "img1 = ax[0].pcolor(E[pos_index,:,:], q_y[pos_index,:,:]/1E10,\n",
    "                    interface_1[pos_index,:,:]+interface_2[pos_index,:,:]+interface_3[pos_index,:,:],\n",
    "                  cmap=plt.get_cmap('hot'), norm=SymLogNorm(1E-20))\n",
    "ax[0].set_ylabel(r'$q_{y} [\\AA^-]$')\n",
    "#fig.colorbar(mappable=img0, ax=ax[0])\n",
    "ax[0].set_aspect('auto')\n",
    "\n",
    "ax[1].plot(E[0,0,:],(interface_1[pos_index,:,:]+interface_2[pos_index,:,:]+interface_3[pos_index,:,:]).sum(axis=0))\n",
    "ax[1].set_xlim(xmin=0)\n",
    "plt.autoscale(enable=True, axis='x', tight=True)\n",
    "ax[1].set_xlabel('E [eV]')\n",
    "#plt.tight_layout(pad=0.001)\n",
    "\n",
    "fig.subplots_adjust(right=0.85)\n",
    "cbar_ax = fig.add_axes([0.87, 0.15, 0.01, 0.7])\n",
    "fig.colorbar(mappable=img1, cax=cbar_ax)\n",
    "plt.show()"
   ]
  },
  {
   "cell_type": "code",
   "execution_count": 17,
   "metadata": {},
   "outputs": [],
   "source": [
    "fig.savefig(save_folder+'interfaceOnly_binned_Drude'+fileDim, bbox_inches='tight', dpi=800)"
   ]
  },
  {
   "cell_type": "code",
   "execution_count": null,
   "metadata": {},
   "outputs": [],
   "source": []
  }
 ],
 "metadata": {
  "kernelspec": {
   "display_name": "Python 3",
   "language": "python",
   "name": "python3"
  },
  "language_info": {
   "codemirror_mode": {
    "name": "ipython",
    "version": 3
   },
   "file_extension": ".py",
   "mimetype": "text/x-python",
   "name": "python",
   "nbconvert_exporter": "python",
   "pygments_lexer": "ipython3",
   "version": "3.6.2"
  }
 },
 "nbformat": 4,
 "nbformat_minor": 2
}
