{
 "cells": [
  {
   "cell_type": "code",
   "execution_count": null,
   "metadata": {
    "collapsed": true
   },
   "outputs": [],
   "source": []
  },
  {
   "cell_type": "code",
   "execution_count": 1,
   "metadata": {},
   "outputs": [],
   "source": [
    "from __future__ import division\n",
    "import numpy as np\n",
    "from materials import vac, Al\n",
    "from microscope import Microscope\n",
    "from bulkMode import bulk_NR\n",
    "from twoSlabParallel import twoSlabParallel_NR, twoSlabParallel, dispersion\n",
    "import matplotlib.pyplot as plt\n",
    "import matplotlib.colors as pltc"
   ]
  },
  {
   "cell_type": "markdown",
   "metadata": {},
   "source": [
    "Initial varibales"
   ]
  },
  {
   "cell_type": "code",
   "execution_count": 2,
   "metadata": {
    "collapsed": true
   },
   "outputs": [],
   "source": [
    "c = 3E8 #[m/s]\n",
    "hbar=6.582E-16#[eV s]"
   ]
  },
  {
   "cell_type": "markdown",
   "metadata": {},
   "source": [
    "Set dimmensions"
   ]
  },
  {
   "cell_type": "code",
   "execution_count": 3,
   "metadata": {
    "collapsed": true
   },
   "outputs": [],
   "source": [
    "x = np.array([-40, 0, 40])*1E-10#np.arange(-5,0,0.5)*1E-10 #[m]\n",
    "E = np.arange(0.001,17,0.03)\n",
    "E = E[np.newaxis,:,np.newaxis]\n",
    "q_perpendicular = np.arange(0,200,0.05)*1E6\n",
    "q_perpendicular = q_perpendicular[np.newaxis,np.newaxis,:]"
   ]
  },
  {
   "cell_type": "markdown",
   "metadata": {},
   "source": [
    "Set materials"
   ]
  },
  {
   "cell_type": "code",
   "execution_count": 7,
   "metadata": {},
   "outputs": [
    {
     "name": "stdout",
     "output_type": "stream",
     "text": [
      "Al\n",
      "1.8117722802e+29\n",
      "Setting E_p\n",
      "No type specified. Defaulting to Drude.\n",
      " Allowable values for type are:\n",
      "  -Drude: Ep(0)\n",
      "  -Lindhard: Ep(q)\n",
      "  -Lindhard2: Ep(q) with dampening\n",
      "Setting eps\n",
      "No type specified. Defaulting to Drude.\n",
      " Allowable values for type are:\n",
      "  -Drude: Ep(0)\n",
      "\n",
      "Vacuum\n",
      "0.0\n",
      "Setting E_p\n",
      "No type specified. Defaulting to Drude.\n",
      " Allowable values for type are:\n",
      "  -Drude: Ep(0)\n",
      "  -Lindhard: Ep(q)\n",
      "  -Lindhard2: Ep(q) with dampening\n",
      "Setting eps\n",
      "No type specified. Defaulting to Drude.\n",
      " Allowable values for type are:\n",
      "  -Drude: Ep(0)\n",
      "\n",
      "[[ 1.+0.j  1.+0.j  1.+0.j  1.+0.j  1.+0.j  1.+0.j  1.+0.j  1.+0.j  1.+0.j\n",
      "   1.+0.j  1.+0.j  1.+0.j  1.+0.j  1.+0.j  1.+0.j  1.+0.j  1.+0.j  1.+0.j\n",
      "   1.+0.j  1.+0.j  1.+0.j  1.+0.j  1.+0.j  1.+0.j  1.+0.j  1.+0.j  1.+0.j\n",
      "   1.+0.j  1.+0.j  1.+0.j  1.+0.j  1.+0.j  1.+0.j  1.+0.j  1.+0.j  1.+0.j\n",
      "   1.+0.j  1.+0.j  1.+0.j  1.+0.j  1.+0.j  1.+0.j  1.+0.j  1.+0.j  1.+0.j\n",
      "   1.+0.j  1.+0.j  1.+0.j  1.+0.j  1.+0.j  1.+0.j  1.+0.j  1.+0.j  1.+0.j\n",
      "   1.+0.j  1.+0.j  1.+0.j  1.+0.j  1.+0.j  1.+0.j  1.+0.j  1.+0.j  1.+0.j\n",
      "   1.+0.j  1.+0.j  1.+0.j  1.+0.j  1.+0.j  1.+0.j  1.+0.j  1.+0.j  1.+0.j\n",
      "   1.+0.j  1.+0.j  1.+0.j  1.+0.j  1.+0.j  1.+0.j  1.+0.j  1.+0.j  1.+0.j\n",
      "   1.+0.j  1.+0.j  1.+0.j  1.+0.j  1.+0.j  1.+0.j  1.+0.j  1.+0.j  1.+0.j\n",
      "   1.+0.j  1.+0.j  1.+0.j  1.+0.j  1.+0.j  1.+0.j  1.+0.j  1.+0.j  1.+0.j\n",
      "   1.+0.j  1.+0.j  1.+0.j  1.+0.j  1.+0.j  1.+0.j  1.+0.j  1.+0.j  1.+0.j\n",
      "   1.+0.j  1.+0.j  1.+0.j  1.+0.j  1.+0.j  1.+0.j  1.+0.j  1.+0.j  1.+0.j\n",
      "   1.+0.j  1.+0.j  1.+0.j  1.+0.j  1.+0.j  1.+0.j  1.+0.j  1.+0.j  1.+0.j\n",
      "   1.+0.j  1.+0.j  1.+0.j  1.+0.j  1.+0.j  1.+0.j  1.+0.j  1.+0.j  1.+0.j\n",
      "   1.+0.j  1.+0.j  1.+0.j  1.+0.j  1.+0.j  1.+0.j  1.+0.j  1.+0.j  1.+0.j\n",
      "   1.+0.j  1.+0.j  1.+0.j  1.+0.j  1.+0.j  1.+0.j  1.+0.j  1.+0.j  1.+0.j\n",
      "   1.+0.j  1.+0.j  1.+0.j  1.+0.j  1.+0.j  1.+0.j  1.+0.j  1.+0.j  1.+0.j\n",
      "   1.+0.j  1.+0.j  1.+0.j  1.+0.j  1.+0.j  1.+0.j  1.+0.j  1.+0.j  1.+0.j\n",
      "   1.+0.j  1.+0.j  1.+0.j  1.+0.j  1.+0.j  1.+0.j  1.+0.j  1.+0.j  1.+0.j\n",
      "   1.+0.j  1.+0.j  1.+0.j  1.+0.j  1.+0.j  1.+0.j  1.+0.j  1.+0.j  1.+0.j\n",
      "   1.+0.j  1.+0.j  1.+0.j  1.+0.j  1.+0.j  1.+0.j  1.+0.j  1.+0.j  1.+0.j\n",
      "   1.+0.j  1.+0.j  1.+0.j  1.+0.j  1.+0.j  1.+0.j  1.+0.j  1.+0.j  1.+0.j\n",
      "   1.+0.j  1.+0.j  1.+0.j  1.+0.j  1.+0.j  1.+0.j  1.+0.j  1.+0.j  1.+0.j\n",
      "   1.+0.j  1.+0.j  1.+0.j  1.+0.j  1.+0.j  1.+0.j  1.+0.j  1.+0.j  1.+0.j\n",
      "   1.+0.j  1.+0.j  1.+0.j  1.+0.j  1.+0.j  1.+0.j  1.+0.j  1.+0.j  1.+0.j\n",
      "   1.+0.j  1.+0.j  1.+0.j  1.+0.j  1.+0.j  1.+0.j  1.+0.j  1.+0.j  1.+0.j\n",
      "   1.+0.j  1.+0.j  1.+0.j  1.+0.j  1.+0.j  1.+0.j  1.+0.j  1.+0.j  1.+0.j\n",
      "   1.+0.j  1.+0.j  1.+0.j  1.+0.j  1.+0.j  1.+0.j  1.+0.j  1.+0.j  1.+0.j\n",
      "   1.+0.j  1.+0.j  1.+0.j  1.+0.j  1.+0.j  1.+0.j  1.+0.j  1.+0.j  1.+0.j\n",
      "   1.+0.j  1.+0.j  1.+0.j  1.+0.j  1.+0.j  1.+0.j  1.+0.j  1.+0.j  1.+0.j\n",
      "   1.+0.j  1.+0.j  1.+0.j  1.+0.j  1.+0.j  1.+0.j  1.+0.j  1.+0.j  1.+0.j\n",
      "   1.+0.j  1.+0.j  1.+0.j  1.+0.j  1.+0.j  1.+0.j  1.+0.j  1.+0.j  1.+0.j\n",
      "   1.+0.j  1.+0.j  1.+0.j  1.+0.j  1.+0.j  1.+0.j  1.+0.j  1.+0.j  1.+0.j\n",
      "   1.+0.j  1.+0.j  1.+0.j  1.+0.j  1.+0.j  1.+0.j  1.+0.j  1.+0.j  1.+0.j\n",
      "   1.+0.j  1.+0.j  1.+0.j  1.+0.j  1.+0.j  1.+0.j  1.+0.j  1.+0.j  1.+0.j\n",
      "   1.+0.j  1.+0.j  1.+0.j  1.+0.j  1.+0.j  1.+0.j  1.+0.j  1.+0.j  1.+0.j\n",
      "   1.+0.j  1.+0.j  1.+0.j  1.+0.j  1.+0.j  1.+0.j  1.+0.j  1.+0.j  1.+0.j\n",
      "   1.+0.j  1.+0.j  1.+0.j  1.+0.j  1.+0.j  1.+0.j  1.+0.j  1.+0.j  1.+0.j\n",
      "   1.+0.j  1.+0.j  1.+0.j  1.+0.j  1.+0.j  1.+0.j  1.+0.j  1.+0.j  1.+0.j\n",
      "   1.+0.j  1.+0.j  1.+0.j  1.+0.j  1.+0.j  1.+0.j  1.+0.j  1.+0.j  1.+0.j\n",
      "   1.+0.j  1.+0.j  1.+0.j  1.+0.j  1.+0.j  1.+0.j  1.+0.j  1.+0.j  1.+0.j\n",
      "   1.+0.j  1.+0.j  1.+0.j  1.+0.j  1.+0.j  1.+0.j  1.+0.j  1.+0.j  1.+0.j\n",
      "   1.+0.j  1.+0.j  1.+0.j  1.+0.j  1.+0.j  1.+0.j  1.+0.j  1.+0.j  1.+0.j\n",
      "   1.+0.j  1.+0.j  1.+0.j  1.+0.j  1.+0.j  1.+0.j  1.+0.j  1.+0.j  1.+0.j\n",
      "   1.+0.j  1.+0.j  1.+0.j  1.+0.j  1.+0.j  1.+0.j  1.+0.j  1.+0.j  1.+0.j\n",
      "   1.+0.j  1.+0.j  1.+0.j  1.+0.j  1.+0.j  1.+0.j  1.+0.j  1.+0.j  1.+0.j\n",
      "   1.+0.j  1.+0.j  1.+0.j  1.+0.j  1.+0.j  1.+0.j  1.+0.j  1.+0.j  1.+0.j\n",
      "   1.+0.j  1.+0.j  1.+0.j  1.+0.j  1.+0.j  1.+0.j  1.+0.j  1.+0.j  1.+0.j\n",
      "   1.+0.j  1.+0.j  1.+0.j  1.+0.j  1.+0.j  1.+0.j  1.+0.j  1.+0.j  1.+0.j\n",
      "   1.+0.j  1.+0.j  1.+0.j  1.+0.j  1.+0.j  1.+0.j  1.+0.j  1.+0.j  1.+0.j\n",
      "   1.+0.j  1.+0.j  1.+0.j  1.+0.j  1.+0.j  1.+0.j  1.+0.j  1.+0.j  1.+0.j\n",
      "   1.+0.j  1.+0.j  1.+0.j  1.+0.j  1.+0.j  1.+0.j  1.+0.j  1.+0.j  1.+0.j\n",
      "   1.+0.j  1.+0.j  1.+0.j  1.+0.j  1.+0.j  1.+0.j  1.+0.j  1.+0.j  1.+0.j\n",
      "   1.+0.j  1.+0.j  1.+0.j  1.+0.j  1.+0.j  1.+0.j  1.+0.j  1.+0.j  1.+0.j\n",
      "   1.+0.j  1.+0.j  1.+0.j  1.+0.j  1.+0.j  1.+0.j  1.+0.j  1.+0.j  1.+0.j\n",
      "   1.+0.j  1.+0.j  1.+0.j  1.+0.j  1.+0.j  1.+0.j  1.+0.j  1.+0.j  1.+0.j\n",
      "   1.+0.j  1.+0.j  1.+0.j  1.+0.j  1.+0.j  1.+0.j  1.+0.j  1.+0.j  1.+0.j\n",
      "   1.+0.j  1.+0.j  1.+0.j  1.+0.j  1.+0.j  1.+0.j  1.+0.j  1.+0.j  1.+0.j\n",
      "   1.+0.j  1.+0.j  1.+0.j  1.+0.j  1.+0.j  1.+0.j  1.+0.j  1.+0.j  1.+0.j\n",
      "   1.+0.j  1.+0.j  1.+0.j  1.+0.j  1.+0.j  1.+0.j  1.+0.j  1.+0.j  1.+0.j\n",
      "   1.+0.j  1.+0.j  1.+0.j  1.+0.j  1.+0.j  1.+0.j  1.+0.j  1.+0.j  1.+0.j\n",
      "   1.+0.j  1.+0.j  1.+0.j  1.+0.j  1.+0.j  1.+0.j  1.+0.j  1.+0.j  1.+0.j]]\n"
     ]
    }
   ],
   "source": [
    "materials = [Al,vac]\n",
    "for material in materials:\n",
    "    print(material.name)\n",
    "    print(material.n)\n",
    "    material.set_Ep()\n",
    "    material.set_eps(E=E)\n",
    "print(materials[1].eps)\n",
    "#materials[1].eps = np.ones_like(materials[1])*4+0j\n",
    "#print(materials[1].eps)"
   ]
  },
  {
   "cell_type": "markdown",
   "metadata": {},
   "source": [
    "Set microscope"
   ]
  },
  {
   "cell_type": "code",
   "execution_count": 8,
   "metadata": {},
   "outputs": [
    {
     "name": "stdout",
     "output_type": "stream",
     "text": [
      "Microscope\n",
      "  keV :  300\n",
      "  gamma :  1.5870841487279843\n",
      "  beta2 :  0.6029912379261115\n",
      "  v :  232957531.351\n",
      "  T :  154304.780267\n",
      "  k0 :  3.19429261034e+12\n",
      "  resolution :  0.05\n",
      "  dispersion :  0.05\n",
      "  collection_angle :  0.002\n",
      "\n"
     ]
    }
   ],
   "source": [
    "microscope = Microscope(keV=300)\n",
    "microscope.print_parameters()"
   ]
  },
  {
   "cell_type": "markdown",
   "metadata": {},
   "source": [
    "# Plotting"
   ]
  },
  {
   "cell_type": "code",
   "execution_count": 9,
   "metadata": {
    "collapsed": true
   },
   "outputs": [],
   "source": [
    "pos_index= 0"
   ]
  },
  {
   "cell_type": "markdown",
   "metadata": {},
   "source": [
    "Bulk"
   ]
  },
  {
   "cell_type": "code",
   "execution_count": 10,
   "metadata": {},
   "outputs": [
    {
     "ename": "ValueError",
     "evalue": "operands could not be broadcast together with shapes (1,567) (1,1,4000) ",
     "output_type": "error",
     "traceback": [
      "\u001b[1;31m---------------------------------------------------------------------------\u001b[0m",
      "\u001b[1;31mValueError\u001b[0m                                Traceback (most recent call last)",
      "\u001b[1;32m<ipython-input-10-3a576fe87d10>\u001b[0m in \u001b[0;36m<module>\u001b[1;34m()\u001b[0m\n\u001b[0;32m      1\u001b[0m bulk = bulk_NR(microscope, material=materials,\n\u001b[1;32m----> 2\u001b[1;33m                    x=x, q_perpendicular=q_perpendicular, E=E)\n\u001b[0m",
      "\u001b[1;32mC:\\Users\\erhog\\Documents\\GitHub\\Interface_Plasmon_Simulation\\Interface_Plasmon_Simulation\\bulkMode.py\u001b[0m in \u001b[0;36mbulk_NR\u001b[1;34m(microscope, material, x, x0, q_perpendicular, E)\u001b[0m\n\u001b[0;32m     40\u001b[0m             \u001b[0mprint\u001b[0m\u001b[1;33m(\u001b[0m\u001b[1;34m'eps has not been set.'\u001b[0m\u001b[1;33m)\u001b[0m\u001b[1;33m\u001b[0m\u001b[0m\n\u001b[0;32m     41\u001b[0m \u001b[1;33m\u001b[0m\u001b[0m\n\u001b[1;32m---> 42\u001b[1;33m     \u001b[0mq_parallel\u001b[0m \u001b[1;33m=\u001b[0m \u001b[0mnp\u001b[0m\u001b[1;33m.\u001b[0m\u001b[0msqrt\u001b[0m\u001b[1;33m(\u001b[0m\u001b[1;33m(\u001b[0m\u001b[1;33m(\u001b[0m\u001b[0mE\u001b[0m\u001b[1;33m/\u001b[0m\u001b[0mhbar\u001b[0m\u001b[1;33m)\u001b[0m\u001b[1;33m/\u001b[0m\u001b[0mmicroscope\u001b[0m\u001b[1;33m.\u001b[0m\u001b[0mv\u001b[0m\u001b[1;33m)\u001b[0m\u001b[1;33m**\u001b[0m\u001b[1;36m2\u001b[0m\u001b[1;33m+\u001b[0m\u001b[0mq_perpendicular\u001b[0m\u001b[1;33m**\u001b[0m\u001b[1;36m2\u001b[0m\u001b[1;33m)\u001b[0m\u001b[1;33m\u001b[0m\u001b[0m\n\u001b[0m\u001b[0;32m     43\u001b[0m \u001b[1;33m\u001b[0m\u001b[0m\n\u001b[0;32m     44\u001b[0m     \u001b[0mpre\u001b[0m \u001b[1;33m=\u001b[0m \u001b[1;36m2\u001b[0m\u001b[1;33m*\u001b[0m\u001b[0me\u001b[0m\u001b[1;33m**\u001b[0m\u001b[1;36m2\u001b[0m\u001b[1;33m/\u001b[0m\u001b[1;33m(\u001b[0m\u001b[0mnp\u001b[0m\u001b[1;33m.\u001b[0m\u001b[0mpi\u001b[0m\u001b[1;33m*\u001b[0m\u001b[0mehbar\u001b[0m\u001b[1;33m*\u001b[0m\u001b[1;33m(\u001b[0m\u001b[0mmicroscope\u001b[0m\u001b[1;33m.\u001b[0m\u001b[0mv\u001b[0m\u001b[1;33m*\u001b[0m\u001b[0mq_parallel\u001b[0m\u001b[1;33m)\u001b[0m\u001b[1;33m**\u001b[0m\u001b[1;36m2\u001b[0m\u001b[1;33m*\u001b[0m\u001b[0meps0\u001b[0m\u001b[1;33m)\u001b[0m \u001b[1;33m/\u001b[0m \u001b[0mhbar\u001b[0m \u001b[1;31m#[1/(eV m^2)]\u001b[0m\u001b[1;33m\u001b[0m\u001b[0m\n",
      "\u001b[1;31mValueError\u001b[0m: operands could not be broadcast together with shapes (1,567) (1,1,4000) "
     ]
    }
   ],
   "source": [
    "bulk = bulk_NR(microscope, material=materials,\n",
    "                   x=x, q_perpendicular=q_perpendicular, E=E)"
   ]
  },
  {
   "cell_type": "code",
   "execution_count": null,
   "metadata": {},
   "outputs": [],
   "source": [
    "fig, ax = plt.subplots(2, figsize=(20,10), sharex=True)\n",
    "fig.suptitle(r'pos: {} [m]'.format(x[pos_index]))\n",
    "img0 = ax[0].imshow(bulk[pos_index,:,:], aspect='auto', origin='lower',\n",
    "             extent=(np.amin(E),np.amax(E), np.amin(q_perpendicular), np.amax(q_perpendicular)))\n",
    "ax[0].set_title('Bulk')\n",
    "ax[0].set_ylabel(r'$q_{y} [m^-]$')\n",
    "#fig.colorbar(mappable=img0, ax=ax[0])\n",
    "ax[0].set_aspect('auto')\n",
    "\n",
    "ax[1].plot(E,bulk[:,pos_index,:].sum(axis=0))\n",
    "#ax[1].set_xlim(xmin=0)\n",
    "plt.autoscale(enable=True, axis='x', tight=True)\n",
    "ax[1].set_xlabel('E [eV]')\n",
    "#plt.tight_layout(pad=0.001)\n",
    "plt.show()"
   ]
  },
  {
   "cell_type": "markdown",
   "metadata": {},
   "source": [
    "Non-Relativistic"
   ]
  },
  {
   "cell_type": "code",
   "execution_count": null,
   "metadata": {},
   "outputs": [],
   "source": [
    "interface, begrenzung = twoSlabParallel_NR(microscope, material=materials,\n",
    "                   x=x, q_perpendicular=q_perpendicular, E=E)"
   ]
  },
  {
   "cell_type": "code",
   "execution_count": null,
   "metadata": {},
   "outputs": [],
   "source": [
    "\n",
    "fig, ax = plt.subplots(2, 2, figsize=(20,10))\n",
    "fig.suptitle(r'pos: {} [$\\AA$]'.format(x[pos_index]))\n",
    "\n",
    "img0 = ax[0,0].imshow(interface[pos_index,:,:], aspect='auto', norm=pltc.LogNorm(), origin='lower',\n",
    "                 extent=(np.amin(E),np.amax(E), np.amin(q_perpendicular), np.amax(q_perpendicular)))\n",
    "ax[0,0].plot(q_perpendicular*c*hbar, q_perpendicular, color='red')\n",
    "ax[0,0].set_title('Interface')\n",
    "fig.colorbar(img0, ax=ax[0,0])\n",
    "\n",
    "img1 = ax[0,1].imshow(begrenzung[pos_index,:,:], aspect='auto', origin='lower',\n",
    "             extent=(np.amin(E),np.amax(E), np.amin(q_perpendicular), np.amax(q_perpendicular)))\n",
    "ax[0,1].set_title('Begrenzung')\n",
    "fig.colorbar(img1, ax=ax[0,1])\n",
    "\n",
    "img2 = ax[1,0].imshow(bulk[pos_index,:,:], aspect='auto', origin='lower',\n",
    "             extent=(np.amin(E),np.amax(E), np.amin(q_perpendicular), np.amax(q_perpendicular)))\n",
    "ax[1,0].set_title('Bulk')\n",
    "fig.colorbar(img2, ax=ax[1,0])\n",
    "\n",
    "img3 = ax[1,1].imshow(bulk[pos_index,:,:]+begrenzung[pos_index,:,:]+interface[pos_index,:,:], aspect='auto', origin='lower',\n",
    "             extent=(np.amin(E),np.amax(E), np.amin(q_perpendicular), np.amax(q_perpendicular)))\n",
    "ax[1,1].plot(q_perpendicular*c*hbar, q_perpendicular, color='red')\n",
    "ax[1,1].set_title('Total')\n",
    "fig.colorbar(img3, ax=ax[1,1])\n",
    "\n",
    "for each in ax.flatten():\n",
    "    each.set_xlabel(r'$E [eV]$')\n",
    "    each.set_xlim(0,np.amax(E))\n",
    "    each.set_ylabel(r'$q_{y} [m^-]$')\n",
    "\n",
    "#plt.tight_layout()\n",
    "plt.show()"
   ]
  },
  {
   "cell_type": "code",
   "execution_count": null,
   "metadata": {},
   "outputs": [],
   "source": [
    "fig, ax = plt.subplots(2, figsize=(20,10))\n",
    "fig.suptitle(r'pos: {} [$\\AA$]'.format(x[pos_index]))\n",
    "img0 = ax[0].imshow(interface[pos_index,:,:], aspect='auto', origin='lower',\n",
    "             extent=(np.amin(E),np.amax(E), np.amin(q_perpendicular), np.amax(q_perpendicular)))\n",
    "ax[0].set_title('Interface')\n",
    "plt.xlabel('E [eV]')\n",
    "plt.ylabel(r'$q_{y} [m^-]$')\n",
    "fig.colorbar(mappable=img0, ax=ax[0])\n",
    "\n",
    "ax[1].plot(interface[:,pos_index,:].sum(axis=0))\n",
    "plt.autoscale(enable=True, axis='x', tight=True)\n",
    "plt.show()"
   ]
  },
  {
   "cell_type": "markdown",
   "metadata": {},
   "source": [
    "Relativistic"
   ]
  },
  {
   "cell_type": "code",
   "execution_count": null,
   "metadata": {},
   "outputs": [],
   "source": [
    "interface_s, interface_p = twoSlabParallel(microscope, material=materials,\n",
    "                   x=x, q_perpendicular=q_perpendicular, E=E)"
   ]
  },
  {
   "cell_type": "code",
   "execution_count": null,
   "metadata": {
    "collapsed": true
   },
   "outputs": [],
   "source": [
    "from matplotlib.colors import LogNorm"
   ]
  },
  {
   "cell_type": "code",
   "execution_count": null,
   "metadata": {},
   "outputs": [],
   "source": [
    "fig, [ax1, ax2] = plt.subplots(2, 1, figsize=(20,10))\n",
    "img1 = ax1.imshow(interface_s[pos_index,:,:], aspect='auto', origin='lower', norm=LogNorm(),\n",
    "                 extent=(np.amin(E),np.amax(E), np.amin(q_perpendicular), np.amax(q_perpendicular)))\n",
    "plt.xlabel('E [eV]')\n",
    "plt.ylabel(r'$q_{y} [m^-]$')\n",
    "fig.colorbar(img1, ax=ax1)\n",
    "#    plt.colorbar()\n",
    "\n",
    "img2 = ax2.imshow(interface_p[pos_index,:,:], aspect='auto', origin='lower', norm=LogNorm(),\n",
    "             extent=(np.amin(E),np.amax(E), np.amin(q_perpendicular), np.amax(q_perpendicular)))\n",
    "plt.xlabel('E [eV]')\n",
    "plt.ylabel(r'$q_{y} [m^-]$')\n",
    "fig.colorbar(img2, ax=ax2)\n",
    "ax2.plot(q_perpendicular*c*hbar, q_perpendicular, color='red')\n",
    "ax2.set_xlim(np.amin(E),np.amax(E))\n",
    "\n",
    "fig2 = plt.figure('dispersion', figsize=(20,10))\n",
    "plt.plot(E,dispersion(material=materials, E=E))\n",
    "plt.plot(q_perpendicular*c*hbar, q_perpendicular, color='red')\n",
    "plt.xlim(np.amin(E),np.amax(E))\n",
    "plt.xlabel('E [eV]')\n",
    "plt.ylabel(r'$q_{||} [m^-]$')\n",
    "\n",
    "plt.show()"
   ]
  },
  {
   "cell_type": "code",
   "execution_count": null,
   "metadata": {
    "collapsed": true
   },
   "outputs": [],
   "source": [
    "z=np.arange(0,10,1)"
   ]
  },
  {
   "cell_type": "code",
   "execution_count": null,
   "metadata": {},
   "outputs": [],
   "source": [
    "print(z)"
   ]
  },
  {
   "cell_type": "code",
   "execution_count": null,
   "metadata": {},
   "outputs": [],
   "source": [
    "z2 = np.expand_dims(z, axis=0)\n",
    "z2.shape"
   ]
  },
  {
   "cell_type": "code",
   "execution_count": null,
   "metadata": {},
   "outputs": [],
   "source": [
    "z3 = np.expand_dims(z2, axis=0)\n",
    "z3.shape"
   ]
  },
  {
   "cell_type": "code",
   "execution_count": null,
   "metadata": {
    "collapsed": true
   },
   "outputs": [],
   "source": [
    "z=np.arange(0,10,1)"
   ]
  },
  {
   "cell_type": "code",
   "execution_count": null,
   "metadata": {},
   "outputs": [],
   "source": [
    "z1=z[np.newaxis,:]\n",
    "z1.shape"
   ]
  },
  {
   "cell_type": "code",
   "execution_count": null,
   "metadata": {},
   "outputs": [],
   "source": [
    "z2=z[np.newaxis,np.newaxis,:]\n",
    "z2.shape"
   ]
  },
  {
   "cell_type": "code",
   "execution_count": null,
   "metadata": {
    "collapsed": true
   },
   "outputs": [],
   "source": []
  }
 ],
 "metadata": {
  "kernelspec": {
   "display_name": "Python 3",
   "language": "python",
   "name": "python3"
  },
  "language_info": {
   "codemirror_mode": {
    "name": "ipython",
    "version": 3
   },
   "file_extension": ".py",
   "mimetype": "text/x-python",
   "name": "python",
   "nbconvert_exporter": "python",
   "pygments_lexer": "ipython3",
   "version": "3.6.1"
  }
 },
 "nbformat": 4,
 "nbformat_minor": 2
}
